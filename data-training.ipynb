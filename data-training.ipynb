{
 "cells": [
  {
   "cell_type": "code",
   "execution_count": 1,
   "metadata": {},
   "outputs": [],
   "source": [
    "import pandas as pd\n",
    "from sklearn.model_selection import train_test_split\n",
    "from sklearn.preprocessing import StandardScaler"
   ]
  },
  {
   "cell_type": "code",
   "execution_count": 5,
   "metadata": {},
   "outputs": [
    {
     "data": {
      "text/plain": [
       "'/home/luz/Documents/supervised-learning/alt_acsincome_ca_features_85(1).csv'"
      ]
     },
     "execution_count": 5,
     "metadata": {},
     "output_type": "execute_result"
    }
   ],
   "source": [
    "import os\n",
    "notebook_path = os.path.abspath(\"data-training.ipynb\")\n",
    "features_path = os.path.join(os.path.dirname(notebook_path), \"alt_acsincome_ca_features_85(1).csv\")\n",
    "labels_path = os.path.join(os.path.dirname(notebook_path), \"alt_acsincome_ca_labels_85.csv\")\n",
    "dataset_path"
   ]
  },
  {
   "cell_type": "code",
   "execution_count": 6,
   "metadata": {},
   "outputs": [],
   "source": [
    "try:\n",
    "    # Read dataset\n",
    "    df = pd.read_csv(features_path)\n",
    "    dl = pd.read_csv(labels_path)\n",
    "except FileNotFoundError as e:\n",
    "    print(f\"Error : {e}\")"
   ]
  },
  {
   "cell_type": "code",
   "execution_count": 7,
   "metadata": {},
   "outputs": [
    {
     "name": "stdout",
     "output_type": "stream",
     "text": [
      "\n",
      "Aperçu des données (features) :\n",
      "   AGEP  COW  SCHL  MAR    OCCP   POBP  RELP  WKHP  SEX  RAC1P\n",
      "0  41.0  4.0  24.0  1.0  2555.0    6.0   1.0  60.0  2.0    1.0\n",
      "1  77.0  7.0  22.0  1.0  4920.0   39.0   0.0  35.0  1.0    1.0\n",
      "2  38.0  1.0  18.0  1.0   440.0    6.0   1.0  50.0  1.0    1.0\n",
      "3  30.0  1.0  22.0  5.0  1555.0    6.0   2.0  80.0  1.0    6.0\n",
      "4  36.0  1.0  16.0  1.0  4030.0  314.0   1.0  70.0  2.0    1.0\n",
      "\n",
      "Aperçu des données (labels) :\n",
      "   PINCP\n",
      "0   True\n",
      "1   True\n",
      "2  False\n",
      "3   True\n",
      "4  False\n"
     ]
    }
   ],
   "source": [
    "# Affichage des aperçus des données\n",
    "print(\"\\nAperçu des données (features) :\")\n",
    "print(df.head())\n",
    "print(\"\\nAperçu des données (labels) :\")\n",
    "print(dl.head())"
   ]
  },
  {
   "cell_type": "code",
   "execution_count": 8,
   "metadata": {},
   "outputs": [
    {
     "name": "stdout",
     "output_type": "stream",
     "text": [
      "\n",
      "Informations générales sur les données (features) :\n",
      "<class 'pandas.core.frame.DataFrame'>\n",
      "RangeIndex: 166315 entries, 0 to 166314\n",
      "Data columns (total 10 columns):\n",
      " #   Column  Non-Null Count   Dtype  \n",
      "---  ------  --------------   -----  \n",
      " 0   AGEP    166315 non-null  float64\n",
      " 1   COW     166315 non-null  float64\n",
      " 2   SCHL    166315 non-null  float64\n",
      " 3   MAR     166315 non-null  float64\n",
      " 4   OCCP    166315 non-null  float64\n",
      " 5   POBP    166315 non-null  float64\n",
      " 6   RELP    166315 non-null  float64\n",
      " 7   WKHP    166315 non-null  float64\n",
      " 8   SEX     166315 non-null  float64\n",
      " 9   RAC1P   166315 non-null  float64\n",
      "dtypes: float64(10)\n",
      "memory usage: 12.7 MB\n",
      "None\n",
      "\n",
      "Informations générales sur les données (labels) :\n",
      "<class 'pandas.core.frame.DataFrame'>\n",
      "RangeIndex: 166315 entries, 0 to 166314\n",
      "Data columns (total 1 columns):\n",
      " #   Column  Non-Null Count   Dtype\n",
      "---  ------  --------------   -----\n",
      " 0   PINCP   166315 non-null  bool \n",
      "dtypes: bool(1)\n",
      "memory usage: 162.5 KB\n",
      "None\n"
     ]
    }
   ],
   "source": [
    "# Informations générales\n",
    "print(\"\\nInformations générales sur les données (features) :\")\n",
    "print(df.info())\n",
    "print(\"\\nInformations générales sur les données (labels) :\")\n",
    "print(dl.info())"
   ]
  },
  {
   "cell_type": "code",
   "execution_count": 9,
   "metadata": {},
   "outputs": [
    {
     "name": "stdout",
     "output_type": "stream",
     "text": [
      "\n",
      "Statistiques descriptives (features) :\n",
      "                AGEP            COW           SCHL            MAR  \\\n",
      "count  166315.000000  166315.000000  166315.000000  166315.000000   \n",
      "mean       42.736235       2.144551      18.470054       2.653633   \n",
      "std        14.882790       1.888220       3.938362       1.846417   \n",
      "min        17.000000       1.000000       1.000000       1.000000   \n",
      "25%        30.000000       1.000000      16.000000       1.000000   \n",
      "50%        42.000000       1.000000      19.000000       1.000000   \n",
      "75%        55.000000       3.000000      21.000000       5.000000   \n",
      "max        94.000000       8.000000      24.000000       5.000000   \n",
      "\n",
      "                OCCP           POBP           RELP           WKHP  \\\n",
      "count  166315.000000  166315.000000  166315.000000  166315.000000   \n",
      "mean     4019.729279      94.364718       2.506617      37.859255   \n",
      "std      2638.167883     123.472067       4.443905      13.014087   \n",
      "min        10.000000       1.000000       0.000000       1.000000   \n",
      "25%      2014.000000       6.000000       0.000000      32.000000   \n",
      "50%      4110.000000       9.000000       1.000000      40.000000   \n",
      "75%      5521.000000     212.000000       2.000000      40.000000   \n",
      "max      9830.000000     554.000000      17.000000      99.000000   \n",
      "\n",
      "                 SEX          RAC1P  \n",
      "count  166315.000000  166315.000000  \n",
      "mean        1.471972       3.071623  \n",
      "std         0.499215       2.916045  \n",
      "min         1.000000       1.000000  \n",
      "25%         1.000000       1.000000  \n",
      "50%         1.000000       1.000000  \n",
      "75%         2.000000       6.000000  \n",
      "max         2.000000       9.000000  \n"
     ]
    }
   ],
   "source": [
    "# Statistiques descriptives\n",
    "print(\"\\nStatistiques descriptives (features) :\")\n",
    "print(df.describe())"
   ]
  },
  {
   "cell_type": "code",
   "execution_count": 10,
   "metadata": {},
   "outputs": [
    {
     "name": "stdout",
     "output_type": "stream",
     "text": [
      "\n",
      "Valeurs manquantes dans les features :\n",
      "AGEP     0\n",
      "COW      0\n",
      "SCHL     0\n",
      "MAR      0\n",
      "OCCP     0\n",
      "POBP     0\n",
      "RELP     0\n",
      "WKHP     0\n",
      "SEX      0\n",
      "RAC1P    0\n",
      "dtype: int64\n"
     ]
    }
   ],
   "source": [
    "# Vérification des valeurs manquantes\n",
    "print(\"\\nValeurs manquantes dans les features :\")\n",
    "print(df.isnull().sum())\n",
    "print(\"\\nValeurs manquantes dans les labels :\")\n",
    "print(dl.isnull().sum())"
   ]
  },
  {
   "cell_type": "code",
   "execution_count": 11,
   "metadata": {},
   "outputs": [
    {
     "name": "stdout",
     "output_type": "stream",
     "text": [
      "\n",
      "Colonnes numériques à standardiser :\n",
      "Index(['AGEP', 'COW', 'SCHL', 'MAR', 'OCCP', 'POBP', 'RELP', 'WKHP', 'SEX',\n",
      "       'RAC1P'],\n",
      "      dtype='object')\n"
     ]
    }
   ],
   "source": [
    "# Identifier les colonnes numériques\n",
    "numerical_columns = df.select_dtypes(include=['int64', 'float64']).columns\n",
    "print(\"\\nColonnes numériques à standardiser :\")\n",
    "print(numerical_columns)"
   ]
  },
  {
   "cell_type": "code",
   "execution_count": 12,
   "metadata": {},
   "outputs": [
    {
     "name": "stdout",
     "output_type": "stream",
     "text": [
      "\n",
      "Partitionnement réussi !\n",
      "Ensemble d'entraînement : 133052 exemples\n",
      "Ensemble de test : 33263 exemples\n"
     ]
    }
   ],
   "source": [
    "# Partitionner le jeu de données\n",
    "# Associer les labels à `y` et les features à `X`\n",
    "X = df.copy()  # Features\n",
    "y = dl.iloc[:, 0]  # Cible (labels)\n",
    "\n",
    "# Diviser en ensembles d'entraînement et de test\n",
    "X_train, X_test, y_train, y_test = train_test_split(\n",
    "    X, y, test_size=0.2, random_state=42, shuffle=True\n",
    ")\n",
    "\n",
    "print(\"\\nPartitionnement réussi !\")\n",
    "print(f\"Ensemble d'entraînement : {X_train.shape[0]} exemples\")\n",
    "print(f\"Ensemble de test : {X_test.shape[0]} exemples\")"
   ]
  },
  {
   "cell_type": "code",
   "execution_count": 15,
   "metadata": {},
   "outputs": [
    {
     "name": "stdout",
     "output_type": "stream",
     "text": [
      "\n",
      "Aperçu des données standardisées (Ensemble d'entraînement) :\n",
      "            AGEP       COW      SCHL       MAR      OCCP      POBP      RELP  \\\n",
      "147072  0.823538 -0.605762 -1.635206  1.273122  2.155759  1.764190 -0.564431   \n",
      "84322   0.420431  2.574810  0.389000 -0.894228  0.259318  1.237491 -0.339483   \n",
      "129403 -1.662286 -0.605762 -0.623103  1.273122  0.001917 -0.715345 -0.114535   \n",
      "20834  -1.595101 -0.605762  0.135974  1.273122 -0.422038 -0.334501  3.259683   \n",
      "65348  -1.191995 -0.605762 -0.623103 -0.894228  1.432764  1.691262 -0.339483   \n",
      "\n",
      "            WKHP       SEX     RAC1P  \n",
      "147072  0.161370 -0.946574  1.693785  \n",
      "84322   1.083153 -0.946574  1.007326  \n",
      "129403 -0.990859 -0.946574 -0.365593  \n",
      "20834  -0.990859  1.056441 -0.708823  \n",
      "65348   0.161370 -0.946574  1.693785  \n",
      "\n",
      "Aperçu des données standardisées (Ensemble de test) :\n",
      "            AGEP       COW      SCHL       MAR      OCCP      POBP      RELP  \\\n",
      "21546   0.017325  0.454429  1.148077 -0.894228 -0.649157  1.294213 -0.339483   \n",
      "116870  0.218878  0.984524 -0.623103 -0.894228 -0.227473  1.124049 -0.564431   \n",
      "96563  -0.654519 -0.605762 -2.900335  1.273122  0.846041  1.691262  2.134944   \n",
      "92421   1.428198  0.454429  0.135974  0.189447 -0.160094 -0.715345 -0.564431   \n",
      "79799  -0.923257 -0.605762  0.135974  1.273122  0.456154 -0.715345 -0.564431   \n",
      "\n",
      "            WKHP       SEX     RAC1P  \n",
      "21546   0.161370  1.056441 -0.708823  \n",
      "116870  0.161370 -0.946574  1.007326  \n",
      "96563   0.161370 -0.946574 -0.708823  \n",
      "92421   1.697675 -0.946574 -0.708823  \n",
      "79799   0.161370  1.056441 -0.365593  \n",
      "\n",
      "Scaler sauvegardé dans le fichier 'scaler.pkl'.\n"
     ]
    }
   ],
   "source": [
    "import joblib\n",
    "# Standardiser les colonnes numériques\n",
    "scaler = StandardScaler()\n",
    "X_train_scaled = X_train.copy()\n",
    "X_test_scaled = X_test.copy()\n",
    "\n",
    "X_train_scaled[numerical_columns] = scaler.fit_transform(X_train[numerical_columns])\n",
    "X_test_scaled[numerical_columns] = scaler.transform(X_test[numerical_columns])\n",
    "\n",
    "# Vérifier les données standardisées\n",
    "print(\"\\nAperçu des données standardisées (Ensemble d'entraînement) :\")\n",
    "print(X_train_scaled.head())\n",
    "\n",
    "print(\"\\nAperçu des données standardisées (Ensemble de test) :\")\n",
    "print(X_test_scaled.head())\n",
    "\n",
    "# Sauvegarder le scaler pour réutilisation\n",
    "scaler_file = 'scaler.pkl'\n",
    "joblib.dump(scaler, scaler_file)\n",
    "print(f\"\\nScaler sauvegardé dans le fichier '{scaler_file}'.\")"
   ]
  },
  {
   "cell_type": "code",
   "execution_count": 18,
   "metadata": {},
   "outputs": [],
   "source": [
    "from sklearn.ensemble import RandomForestClassifier, AdaBoostClassifier, GradientBoostingClassifier\n",
    "# Modèles par défaut\n",
    "models = {\n",
    "    'RandomForest': RandomForestClassifier(),\n",
    "    'AdaBoost': AdaBoostClassifier(algorithm=\"SAMME\"),\n",
    "    'GradientBoosting': GradientBoostingClassifier()\n",
    "}"
   ]
  },
  {
   "cell_type": "code",
   "execution_count": 19,
   "metadata": {},
   "outputs": [
    {
     "name": "stdout",
     "output_type": "stream",
     "text": [
      "\n",
      "RandomForest - Classification Report:\n",
      "              precision    recall  f1-score   support\n",
      "\n",
      "       False       0.84      0.85      0.84     19594\n",
      "        True       0.78      0.77      0.77     13669\n",
      "\n",
      "    accuracy                           0.81     33263\n",
      "   macro avg       0.81      0.81      0.81     33263\n",
      "weighted avg       0.81      0.81      0.81     33263\n",
      "\n",
      "RandomForest - Confusion Matrix:\n",
      "[[16648  2946]\n",
      " [ 3212 10457]]\n",
      "\n",
      "AdaBoost - Classification Report:\n",
      "              precision    recall  f1-score   support\n",
      "\n",
      "       False       0.82      0.85      0.84     19594\n",
      "        True       0.77      0.74      0.76     13669\n",
      "\n",
      "    accuracy                           0.80     33263\n",
      "   macro avg       0.80      0.79      0.80     33263\n",
      "weighted avg       0.80      0.80      0.80     33263\n",
      "\n",
      "AdaBoost - Confusion Matrix:\n",
      "[[16600  2994]\n",
      " [ 3552 10117]]\n",
      "\n",
      "GradientBoosting - Classification Report:\n",
      "              precision    recall  f1-score   support\n",
      "\n",
      "       False       0.84      0.85      0.84     19594\n",
      "        True       0.78      0.76      0.77     13669\n",
      "\n",
      "    accuracy                           0.81     33263\n",
      "   macro avg       0.81      0.81      0.81     33263\n",
      "weighted avg       0.81      0.81      0.81     33263\n",
      "\n",
      "GradientBoosting - Confusion Matrix:\n",
      "[[16653  2941]\n",
      " [ 3262 10407]]\n"
     ]
    }
   ],
   "source": [
    "from sklearn.metrics import classification_report, confusion_matrix\n",
    "\n",
    "# Generating classification_report, confusion_matrix\n",
    "for name, model in models.items():\n",
    "    # Training Model\n",
    "    model.fit(X_train_scaled, y_train)\n",
    "    \n",
    "    # Predict Test Set\n",
    "    y_pred = model.predict(X_test_scaled)\n",
    "    \n",
    "    # Printing classification_report\n",
    "    print(f'\\n{name} - Classification Report:')\n",
    "    print(classification_report(y_test, y_pred))\n",
    "    \n",
    "    # Printing confusion_matrix\n",
    "    print(f'{name} - Confusion Matrix:')\n",
    "    print(confusion_matrix(y_test, y_pred))\n"
   ]
  }
 ],
 "metadata": {
  "kernelspec": {
   "display_name": "Python 3 (ipykernel)",
   "language": "python",
   "name": "python3"
  },
  "language_info": {
   "codemirror_mode": {
    "name": "ipython",
    "version": 3
   },
   "file_extension": ".py",
   "mimetype": "text/x-python",
   "name": "python",
   "nbconvert_exporter": "python",
   "pygments_lexer": "ipython3",
   "version": "3.10.12"
  }
 },
 "nbformat": 4,
 "nbformat_minor": 4
}
