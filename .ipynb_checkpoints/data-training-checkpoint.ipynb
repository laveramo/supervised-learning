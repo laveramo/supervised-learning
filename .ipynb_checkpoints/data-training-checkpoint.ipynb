{
 "cells": [
  {
   "cell_type": "code",
   "execution_count": 1,
   "metadata": {},
   "outputs": [],
   "source": [
    "import pandas as pd\n",
    "from sklearn.model_selection import train_test_split\n",
    "from sklearn.preprocessing import StandardScaler"
   ]
  },
  {
   "cell_type": "code",
   "execution_count": 5,
   "metadata": {},
   "outputs": [
    {
     "data": {
      "text/plain": [
       "'/home/luz/Documents/supervised-learning/alt_acsincome_ca_features_85(1).csv'"
      ]
     },
     "execution_count": 5,
     "metadata": {},
     "output_type": "execute_result"
    }
   ],
   "source": [
    "import os\n",
    "notebook_path = os.path.abspath(\"data-training.ipynb\")\n",
    "features_path = os.path.join(os.path.dirname(notebook_path), \"alt_acsincome_ca_features_85(1).csv\")\n",
    "labels_path = os.path.join(os.path.dirname(notebook_path), \"alt_acsincome_ca_labels_85.csv\")\n",
    "dataset_path"
   ]
  },
  {
   "cell_type": "code",
   "execution_count": 6,
   "metadata": {},
   "outputs": [],
   "source": [
    "try:\n",
    "    # Read dataset\n",
    "    df = pd.read_csv(features_path)\n",
    "    dl = pd.read_csv(labels_path)\n",
    "except FileNotFoundError as e:\n",
    "    print(f\"Error : {e}\")"
   ]
  },
  {
   "cell_type": "code",
   "execution_count": 7,
   "metadata": {},
   "outputs": [
    {
     "name": "stdout",
     "output_type": "stream",
     "text": [
      "\n",
      "Aperçu des données (features) :\n",
      "   AGEP  COW  SCHL  MAR    OCCP   POBP  RELP  WKHP  SEX  RAC1P\n",
      "0  41.0  4.0  24.0  1.0  2555.0    6.0   1.0  60.0  2.0    1.0\n",
      "1  77.0  7.0  22.0  1.0  4920.0   39.0   0.0  35.0  1.0    1.0\n",
      "2  38.0  1.0  18.0  1.0   440.0    6.0   1.0  50.0  1.0    1.0\n",
      "3  30.0  1.0  22.0  5.0  1555.0    6.0   2.0  80.0  1.0    6.0\n",
      "4  36.0  1.0  16.0  1.0  4030.0  314.0   1.0  70.0  2.0    1.0\n",
      "\n",
      "Aperçu des données (labels) :\n",
      "   PINCP\n",
      "0   True\n",
      "1   True\n",
      "2  False\n",
      "3   True\n",
      "4  False\n"
     ]
    }
   ],
   "source": [
    "# Affichage des aperçus des données\n",
    "print(\"\\nAperçu des données (features) :\")\n",
    "print(df.head())\n",
    "print(\"\\nAperçu des données (labels) :\")\n",
    "print(dl.head())"
   ]
  },
  {
   "cell_type": "code",
   "execution_count": 8,
   "metadata": {},
   "outputs": [
    {
     "name": "stdout",
     "output_type": "stream",
     "text": [
      "\n",
      "Informations générales sur les données (features) :\n",
      "<class 'pandas.core.frame.DataFrame'>\n",
      "RangeIndex: 166315 entries, 0 to 166314\n",
      "Data columns (total 10 columns):\n",
      " #   Column  Non-Null Count   Dtype  \n",
      "---  ------  --------------   -----  \n",
      " 0   AGEP    166315 non-null  float64\n",
      " 1   COW     166315 non-null  float64\n",
      " 2   SCHL    166315 non-null  float64\n",
      " 3   MAR     166315 non-null  float64\n",
      " 4   OCCP    166315 non-null  float64\n",
      " 5   POBP    166315 non-null  float64\n",
      " 6   RELP    166315 non-null  float64\n",
      " 7   WKHP    166315 non-null  float64\n",
      " 8   SEX     166315 non-null  float64\n",
      " 9   RAC1P   166315 non-null  float64\n",
      "dtypes: float64(10)\n",
      "memory usage: 12.7 MB\n",
      "None\n",
      "\n",
      "Informations générales sur les données (labels) :\n",
      "<class 'pandas.core.frame.DataFrame'>\n",
      "RangeIndex: 166315 entries, 0 to 166314\n",
      "Data columns (total 1 columns):\n",
      " #   Column  Non-Null Count   Dtype\n",
      "---  ------  --------------   -----\n",
      " 0   PINCP   166315 non-null  bool \n",
      "dtypes: bool(1)\n",
      "memory usage: 162.5 KB\n",
      "None\n"
     ]
    }
   ],
   "source": [
    "# Informations générales\n",
    "print(\"\\nInformations générales sur les données (features) :\")\n",
    "print(df.info())\n",
    "print(\"\\nInformations générales sur les données (labels) :\")\n",
    "print(dl.info())"
   ]
  },
  {
   "cell_type": "code",
   "execution_count": 9,
   "metadata": {},
   "outputs": [
    {
     "name": "stdout",
     "output_type": "stream",
     "text": [
      "\n",
      "Statistiques descriptives (features) :\n",
      "                AGEP            COW           SCHL            MAR  \\\n",
      "count  166315.000000  166315.000000  166315.000000  166315.000000   \n",
      "mean       42.736235       2.144551      18.470054       2.653633   \n",
      "std        14.882790       1.888220       3.938362       1.846417   \n",
      "min        17.000000       1.000000       1.000000       1.000000   \n",
      "25%        30.000000       1.000000      16.000000       1.000000   \n",
      "50%        42.000000       1.000000      19.000000       1.000000   \n",
      "75%        55.000000       3.000000      21.000000       5.000000   \n",
      "max        94.000000       8.000000      24.000000       5.000000   \n",
      "\n",
      "                OCCP           POBP           RELP           WKHP  \\\n",
      "count  166315.000000  166315.000000  166315.000000  166315.000000   \n",
      "mean     4019.729279      94.364718       2.506617      37.859255   \n",
      "std      2638.167883     123.472067       4.443905      13.014087   \n",
      "min        10.000000       1.000000       0.000000       1.000000   \n",
      "25%      2014.000000       6.000000       0.000000      32.000000   \n",
      "50%      4110.000000       9.000000       1.000000      40.000000   \n",
      "75%      5521.000000     212.000000       2.000000      40.000000   \n",
      "max      9830.000000     554.000000      17.000000      99.000000   \n",
      "\n",
      "                 SEX          RAC1P  \n",
      "count  166315.000000  166315.000000  \n",
      "mean        1.471972       3.071623  \n",
      "std         0.499215       2.916045  \n",
      "min         1.000000       1.000000  \n",
      "25%         1.000000       1.000000  \n",
      "50%         1.000000       1.000000  \n",
      "75%         2.000000       6.000000  \n",
      "max         2.000000       9.000000  \n"
     ]
    }
   ],
   "source": [
    "# Statistiques descriptives\n",
    "print(\"\\nStatistiques descriptives (features) :\")\n",
    "print(df.describe())"
   ]
  },
  {
   "cell_type": "code",
   "execution_count": 10,
   "metadata": {},
   "outputs": [
    {
     "name": "stdout",
     "output_type": "stream",
     "text": [
      "\n",
      "Valeurs manquantes dans les features :\n",
      "AGEP     0\n",
      "COW      0\n",
      "SCHL     0\n",
      "MAR      0\n",
      "OCCP     0\n",
      "POBP     0\n",
      "RELP     0\n",
      "WKHP     0\n",
      "SEX      0\n",
      "RAC1P    0\n",
      "dtype: int64\n"
     ]
    }
   ],
   "source": [
    "# Vérification des valeurs manquantes\n",
    "print(\"\\nValeurs manquantes dans les features :\")\n",
    "print(df.isnull().sum())\n",
    "print(\"\\nValeurs manquantes dans les labels :\")\n",
    "print(dl.isnull().sum())"
   ]
  },
  {
   "cell_type": "code",
   "execution_count": 21,
   "metadata": {},
   "outputs": [],
   "source": [
    "# Split dataset in train and test\n",
    "X = df.iloc[:,1:31]  # Features\n",
    "y = df.iloc[:, 31]  # Cible (labels)\n",
    "\n",
    "# Diviser en ensembles d'entraînement et de test\n",
    "X_train, X_test, y_train, y_test = train_test_split(\n",
    "    X, y, test_size=0.2, random_state=42, shuffle=True\n",
    ")"
   ]
  },
  {
   "cell_type": "code",
   "execution_count": 22,
   "metadata": {},
   "outputs": [],
   "source": [
    "from sklearn.ensemble import RandomForestClassifier, AdaBoostClassifier, GradientBoostingClassifier\n",
    "models = {\n",
    "    'RandomForest': RandomForestClassifier(),\n",
    "    'AdaBoost': AdaBoostClassifier(algorithm=\"SAMME\"),\n",
    "    'GradientBoosting': GradientBoostingClassifier()\n",
    "}"
   ]
  },
  {
   "cell_type": "code",
   "execution_count": 23,
   "metadata": {},
   "outputs": [
    {
     "name": "stdout",
     "output_type": "stream",
     "text": [
      "RandomForest - Accuracy: 0.9828\n",
      "AdaBoost - Accuracy: 0.9313\n",
      "GradientBoosting - Accuracy: 0.9504\n"
     ]
    }
   ],
   "source": [
    "from sklearn.model_selection import cross_val_score, GridSearchCV\n",
    "import numpy as np\n",
    "\n",
    "for name, model in models.items():\n",
    "    scores = cross_val_score(model, X_train, y_train, cv=5)\n",
    "    print(f'{name} - Accuracy: {np.mean(scores):.4f}')\n"
   ]
  },
  {
   "cell_type": "code",
   "execution_count": 24,
   "metadata": {},
   "outputs": [
    {
     "name": "stdout",
     "output_type": "stream",
     "text": [
      "\n",
      "RandomForest - Classification Report:\n",
      "              precision    recall  f1-score   support\n",
      "\n",
      "          -1       0.98      0.98      0.98      1964\n",
      "           1       0.98      0.99      0.99      2458\n",
      "\n",
      "    accuracy                           0.98      4422\n",
      "   macro avg       0.98      0.98      0.98      4422\n",
      "weighted avg       0.98      0.98      0.98      4422\n",
      "\n",
      "RandomForest - Confusion Matrix:\n",
      "[[1925   39]\n",
      " [  32 2426]]\n",
      "\n",
      "AdaBoost - Classification Report:\n",
      "              precision    recall  f1-score   support\n",
      "\n",
      "          -1       0.93      0.91      0.92      1964\n",
      "           1       0.93      0.94      0.94      2458\n",
      "\n",
      "    accuracy                           0.93      4422\n",
      "   macro avg       0.93      0.93      0.93      4422\n",
      "weighted avg       0.93      0.93      0.93      4422\n",
      "\n",
      "AdaBoost - Confusion Matrix:\n",
      "[[1784  180]\n",
      " [ 140 2318]]\n",
      "\n",
      "GradientBoosting - Classification Report:\n",
      "              precision    recall  f1-score   support\n",
      "\n",
      "          -1       0.95      0.93      0.94      1964\n",
      "           1       0.95      0.96      0.95      2458\n",
      "\n",
      "    accuracy                           0.95      4422\n",
      "   macro avg       0.95      0.95      0.95      4422\n",
      "weighted avg       0.95      0.95      0.95      4422\n",
      "\n",
      "GradientBoosting - Confusion Matrix:\n",
      "[[1829  135]\n",
      " [  99 2359]]\n"
     ]
    }
   ],
   "source": [
    "from sklearn.metrics import classification_report, confusion_matrix\n",
    "\n",
    "# Generating classification_report, confusion_matrix\n",
    "for name, model in models.items():\n",
    "    # Training Model\n",
    "    model.fit(X_train, y_train)\n",
    "    \n",
    "    # Predict Test Set\n",
    "    y_pred = model.predict(X_test)\n",
    "    \n",
    "    # Printing classification_report\n",
    "    print(f'\\n{name} - Classification Report:')\n",
    "    print(classification_report(y_test, y_pred))\n",
    "    \n",
    "    # Printing confusion_matrix\n",
    "    print(f'{name} - Confusion Matrix:')\n",
    "    print(confusion_matrix(y_test, y_pred))\n"
   ]
  },
  {
   "cell_type": "markdown",
   "metadata": {},
   "source": [
    "## Training model with just Address Bar based features"
   ]
  },
  {
   "cell_type": "markdown",
   "metadata": {},
   "source": [
    "The paper that comes with the dataset being used specifies 4 different types of features. The first type is Address Bar based features. Since those are the features more easily obtained from a website, we'll train the model just with them to see if those are sufficient. Then we'll do the same with the other type of features in order to optimize our future extension, less features implies less time of data collecting and processing."
   ]
  },
  {
   "cell_type": "code",
   "execution_count": 25,
   "metadata": {},
   "outputs": [],
   "source": [
    "# Split dataset in train and test\n",
    "X = df.iloc[:,1:13]  # Address Bar based features\n",
    "y = df.iloc[:, 31]  # labels\n",
    "\n",
    "# train and test split\n",
    "X_train, X_test, y_train, y_test = train_test_split(\n",
    "    X, y, test_size=0.2, random_state=42, shuffle=True\n",
    ")"
   ]
  },
  {
   "cell_type": "code",
   "execution_count": 26,
   "metadata": {},
   "outputs": [
    {
     "name": "stdout",
     "output_type": "stream",
     "text": [
      "RandomForest - Accuracy: 0.9123\n",
      "AdaBoost - Accuracy: 0.8989\n",
      "GradientBoosting - Accuracy: 0.9020\n"
     ]
    }
   ],
   "source": [
    "from sklearn.model_selection import cross_val_score, GridSearchCV\n",
    "import numpy as np\n",
    "\n",
    "for name, model in models.items():\n",
    "    scores = cross_val_score(model, X_train, y_train, cv=5)\n",
    "    print(f'{name} - Accuracy: {np.mean(scores):.4f}')"
   ]
  },
  {
   "cell_type": "markdown",
   "metadata": {},
   "source": [
    "## Training model with Abnormal based features and HTML/Javascript based features"
   ]
  },
  {
   "cell_type": "code",
   "execution_count": 34,
   "metadata": {},
   "outputs": [],
   "source": [
    "# Split dataset in train and test\n",
    "X = df.iloc[:,13:24]  # Address Bar based features\n",
    "y = df.iloc[:, 31]  # labels\n",
    "\n",
    "# train and test split\n",
    "X_train, X_test, y_train, y_test = train_test_split(\n",
    "    X, y, test_size=0.2, random_state=42, shuffle=True\n",
    ")"
   ]
  },
  {
   "cell_type": "code",
   "execution_count": 28,
   "metadata": {
    "scrolled": true
   },
   "outputs": [
    {
     "name": "stdout",
     "output_type": "stream",
     "text": [
      "RandomForest - Accuracy: 0.8813\n",
      "AdaBoost - Accuracy: 0.8696\n",
      "GradientBoosting - Accuracy: 0.8750\n"
     ]
    }
   ],
   "source": [
    "from sklearn.model_selection import cross_val_score, GridSearchCV\n",
    "import numpy as np\n",
    "\n",
    "for name, model in models.items():\n",
    "    scores = cross_val_score(model, X_train, y_train, cv=5)\n",
    "    print(f'{name} - Accuracy: {np.mean(scores):.4f}')"
   ]
  },
  {
   "cell_type": "markdown",
   "metadata": {},
   "source": [
    "## Training model with Domain based features"
   ]
  },
  {
   "cell_type": "code",
   "execution_count": 54,
   "metadata": {},
   "outputs": [],
   "source": [
    "X = df.iloc[:,24:31]  # Address Bar based features\n",
    "y = df.iloc[:, 31]  # labels\n",
    "\n",
    "# train and test split\n",
    "X_train, X_test, y_train, y_test = train_test_split(\n",
    "    X, y, test_size=0.2, random_state=42, shuffle=True\n",
    ")"
   ]
  },
  {
   "cell_type": "code",
   "execution_count": 55,
   "metadata": {},
   "outputs": [
    {
     "name": "stdout",
     "output_type": "stream",
     "text": [
      "RandomForest - Accuracy: 0.7478\n",
      "AdaBoost - Accuracy: 0.7071\n",
      "GradientBoosting - Accuracy: 0.7358\n"
     ]
    }
   ],
   "source": [
    "from sklearn.model_selection import cross_val_score, GridSearchCV\n",
    "import numpy as np\n",
    "\n",
    "for name, model in models.items():\n",
    "    scores = cross_val_score(model, X_train, y_train, cv=5)\n",
    "    print(f'{name} - Accuracy: {np.mean(scores):.4f}')"
   ]
  },
  {
   "cell_type": "code",
   "execution_count": 59,
   "metadata": {},
   "outputs": [],
   "source": [
    "columns_1_to_12 = df.iloc[:, 1:13]\n",
    "\n",
    "# Selecciona las columnas de la 22 a la 30\n",
    "columns_22_to_30 = df.iloc[:, 22:31]\n",
    "\n",
    "# Combina ambas selecciones en un único DataFrame\n",
    "selected_columns = pd.concat([columns_1_to_12, columns_22_to_30], axis=1)\n",
    "\n",
    "X = selected_columns  # Address Bar based features\n",
    "y = df.iloc[:, 31]  # labels\n",
    "\n",
    "# train and test split\n",
    "X_train, X_test, y_train, y_test = train_test_split(\n",
    "    X, y, test_size=0.2, random_state=42, shuffle=True\n",
    ")\n"
   ]
  },
  {
   "cell_type": "code",
   "execution_count": 60,
   "metadata": {},
   "outputs": [
    {
     "name": "stdout",
     "output_type": "stream",
     "text": [
      "RandomForest - Accuracy: 0.9581\n",
      "AdaBoost - Accuracy: 0.9051\n",
      "GradientBoosting - Accuracy: 0.9220\n"
     ]
    }
   ],
   "source": [
    "from sklearn.model_selection import cross_val_score, GridSearchCV\n",
    "import numpy as np\n",
    "\n",
    "for name, model in models.items():\n",
    "    scores = cross_val_score(model, X_train, y_train, cv=5)\n",
    "    print(f'{name} - Accuracy: {np.mean(scores):.4f}')"
   ]
  },
  {
   "cell_type": "code",
   "execution_count": 63,
   "metadata": {},
   "outputs": [],
   "source": [
    "columns_1_to_12 = df.iloc[:, 1:13]\n",
    "\n",
    "# Selecciona las columnas de la 13 a la 22\n",
    "columns_13_to_22 = df.iloc[:, 13:23]\n",
    "\n",
    "# Combina ambas selecciones en un único DataFrame\n",
    "selected_columns = pd.concat([columns_1_to_12, columns_13_to_22], axis=1)\n",
    "\n",
    "X = selected_columns  # Address Bar based features\n",
    "y = df.iloc[:, 31]  # labels\n",
    "\n",
    "# train and test split\n",
    "X_train, X_test, y_train, y_test = train_test_split(\n",
    "    X, y, test_size=0.2, random_state=42, shuffle=True\n",
    ")"
   ]
  },
  {
   "cell_type": "code",
   "execution_count": 64,
   "metadata": {},
   "outputs": [
    {
     "name": "stdout",
     "output_type": "stream",
     "text": [
      "RandomForest - Accuracy: 0.9580\n",
      "AdaBoost - Accuracy: 0.9258\n",
      "GradientBoosting - Accuracy: 0.9374\n"
     ]
    }
   ],
   "source": [
    "from sklearn.model_selection import cross_val_score, GridSearchCV\n",
    "import numpy as np\n",
    "\n",
    "for name, model in models.items():\n",
    "    scores = cross_val_score(model, X_train, y_train, cv=5)\n",
    "    print(f'{name} - Accuracy: {np.mean(scores):.4f}')"
   ]
  },
  {
   "cell_type": "code",
   "execution_count": 65,
   "metadata": {},
   "outputs": [],
   "source": [
    "columns_13_to_22 = df.iloc[:, 13:23]\n",
    "\n",
    "# Selecciona las columnas de la 13 a la 22\n",
    "columns_23_to_30 = df.iloc[:, 23:31]\n",
    "\n",
    "# Combina ambas selecciones en un único DataFrame\n",
    "selected_columns = pd.concat([columns_13_to_22, columns_23_to_30], axis=1)\n",
    "\n",
    "X = selected_columns  # Address Bar based features\n",
    "y = df.iloc[:, 31]  # labels\n",
    "\n",
    "# train and test split\n",
    "X_train, X_test, y_train, y_test = train_test_split(\n",
    "    X, y, test_size=0.2, random_state=42, shuffle=True\n",
    ")"
   ]
  },
  {
   "cell_type": "code",
   "execution_count": 66,
   "metadata": {},
   "outputs": [
    {
     "name": "stdout",
     "output_type": "stream",
     "text": [
      "RandomForest - Accuracy: 0.9388\n",
      "AdaBoost - Accuracy: 0.8802\n",
      "GradientBoosting - Accuracy: 0.9004\n"
     ]
    }
   ],
   "source": [
    "from sklearn.model_selection import cross_val_score, GridSearchCV\n",
    "import numpy as np\n",
    "\n",
    "for name, model in models.items():\n",
    "    scores = cross_val_score(model, X_train, y_train, cv=5)\n",
    "    print(f'{name} - Accuracy: {np.mean(scores):.4f}')"
   ]
  }
 ],
 "metadata": {
  "kernelspec": {
   "display_name": "Python 3 (ipykernel)",
   "language": "python",
   "name": "python3"
  },
  "language_info": {
   "codemirror_mode": {
    "name": "ipython",
    "version": 3
   },
   "file_extension": ".py",
   "mimetype": "text/x-python",
   "name": "python",
   "nbconvert_exporter": "python",
   "pygments_lexer": "ipython3",
   "version": "3.10.12"
  }
 },
 "nbformat": 4,
 "nbformat_minor": 4
}
